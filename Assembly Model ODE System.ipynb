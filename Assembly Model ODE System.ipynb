{
 "cells": [
  {
   "cell_type": "markdown",
   "metadata": {},
   "source": [
    "# We want to integrate an assembly model of a 4-mer square.... "
   ]
  },
  {
   "cell_type": "code",
   "execution_count": 1,
   "metadata": {},
   "outputs": [],
   "source": [
    "import numpy as np # import the numpy library for working with numerical arrays\n",
    "from scipy.integrate import odeint # import the ode integration function from the scipy library\n",
    "import matplotlib.pyplot as plt # import plotting library and adjust some defaults\n",
    "%matplotlib inline\n",
    "plt.rcParams['figure.figsize'] = [12,8]\n",
    "plt.rcParams.update({'font.size': 16})\n",
    "plt.style.use('seaborn-deep')"
   ]
  },
  {
   "cell_type": "markdown",
   "metadata": {},
   "source": [
    "# 1.) First define a model function in the form the odeint function expects. "
   ]
  },
  {
   "cell_type": "code",
   "execution_count": 7,
   "metadata": {},
   "outputs": [],
   "source": [
    "def model(state,t):\n",
    "    \"\"\"\n",
    "    The model needs to take as arguments a state vector and a time. The state vector will contain \n",
    "    concentrations of species.\n",
    "    \n",
    "    The model function will return the derivative for each component of the state at a given time using\n",
    "    the description in Zlotnick and Endres 2002.\n",
    "    \"\"\"\n",
    "    \n",
    "       \n",
    "    \n",
    "    \n",
    "    # unpack the concentrations of each component from the state vector\n",
    "    m1 = state[0] # monomer\n",
    "    m2 = state[1]\n",
    "    m3 = state[2]\n",
    "    m4 = state[3]\n",
    "    \n",
    "    # define statistical factors for degeneracy. Indexing refers to the species, not a reaction\n",
    "    s2 = 1\n",
    "    s3 = 1   \n",
    "    s4 = 1\n",
    "\n",
    "    \n",
    "    \n",
    "    # define the rate constants. Indexing refers to the species, not a reaction\n",
    "\n",
    "    Ka = 2\n",
    "    \n",
    "    kf = 1\n",
    "    kb = 1/Ka\n",
    "    \n",
    "    \n",
    "    kf2 = kf\n",
    "    kf3 = kf\n",
    "    kf4 = kf\n",
    "    \n",
    "    kb2 = kb\n",
    "    kb3 = kb\n",
    "    kb4 = kb\n",
    "    \n",
    "    # calculate rates\n",
    "    \n",
    "    #    (Gain from m-1)-(Loss to m+1)+(Gain from m+1)-(loss to m-1)\n",
    "    \n",
    "    dm1dt =         0      -(kf2*s2*m1*m1) +(kb2*m2) -0\n",
    "    dm2dt = (kf2*s2*m1*m1) -(kf3*s3*m1*m2) +(kb3*m3) -(kb2*m2)\n",
    "    dm3dt = (kf3*s3*m1*m2) -(kf4*s4*m1*m3) +(kb4*m4) -(kb3*m3)\n",
    "    dm4dt = (kf4*s4*m1*m3) -0              +0        -(kb4*m4)\n",
    "    \n",
    "    # return rates as a vector\n",
    "    return [dm1dt,dm2dt,dm3dt,dm4dt]\n",
    "\n",
    "    "
   ]
  },
  {
   "cell_type": "markdown",
   "metadata": {},
   "source": [
    "# 2.) Initialize the state and make a sequence of time points."
   ]
  },
  {
   "cell_type": "code",
   "execution_count": 10,
   "metadata": {},
   "outputs": [],
   "source": [
    "Nstates = 4\n",
    "state0 = np.zeros(Nstates) # initial state with 100% mass fraction monomer\n",
    "state0[0]= 1\n",
    "t = np.linspace(0,20,100) # Need a time vector. 100 linearly spaced points between 0 and 100\n"
   ]
  },
  {
   "cell_type": "markdown",
   "metadata": {},
   "source": [
    "# 3.) Use odeint to integrate the model over the time series. "
   ]
  },
  {
   "cell_type": "code",
   "execution_count": 11,
   "metadata": {},
   "outputs": [
    {
     "data": {
      "text/plain": [
       "Text(0, 0.5, 'Mass Fraction')"
      ]
     },
     "execution_count": 11,
     "metadata": {},
     "output_type": "execute_result"
    },
    {
     "data": {
      "image/png": "[encoded data removed]",
      "text/plain": [
       "<Figure size 432x288 with 1 Axes>"
      ]
     },
     "metadata": {
      "needs_background": "light"
     },
     "output_type": "display_data"
    }
   ],
   "source": [
    "result = odeint(model,state0,t) \n",
    "\"\"\"\n",
    "The result provided by odeint is NxM vector where N is the number of timepoints and M is\n",
    "the number of components (odes) in the model.\n",
    "\"\"\"\n",
    "ax = plt.plot(t,result)\n",
    "plt.legend(['m1', 'm2', \"m3\", \"m4\"])\n",
    "plt.xlabel(\"Time\")\n",
    "plt.ylabel(\"Mass Fraction\")\n",
    "#plt.xlim(0,20)\n",
    "#plt.ylim(0,100)\n",
    "#optionally save figure\n",
    "#plt.savefig(\"/home/user/Desktop/figure.png\",dpi=300)"
   ]
  }
 ],
 "metadata": {
  "kernelspec": {
   "display_name": "Python 3",
   "language": "python",
   "name": "python3"
  },
  "language_info": {
   "codemirror_mode": {
    "name": "ipython",
    "version": 3
   },
   "file_extension": ".py",
   "mimetype": "text/x-python",
   "name": "python",
   "nbconvert_exporter": "python",
   "pygments_lexer": "ipython3",
   "version": "3.7.4"
  }
 },
 "nbformat": 4,
 "nbformat_minor": 2
}
